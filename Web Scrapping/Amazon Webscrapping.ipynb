{
 "cells": [
  {
   "cell_type": "code",
   "execution_count": 8,
   "metadata": {},
   "outputs": [
    {
     "name": "stdout",
     "output_type": "stream",
     "text": [
      "[<span class=\"a-button a-button-primary a-span12\">\n",
      "<span class=\"a-button-inner\">\n",
      "<button class=\"a-button-text\" type=\"submit\">Continue shopping</button>\n",
      "</span>\n",
      "</span>, <span class=\"a-button-inner\">\n",
      "<button class=\"a-button-text\" type=\"submit\">Continue shopping</button>\n",
      "</span>, <span class=\"a-letter-space\"></span>, <span class=\"a-letter-space\"></span>, <span class=\"a-letter-space\"></span>, <span class=\"a-letter-space\"></span>]\n"
     ]
    }
   ],
   "source": [
    "import requests\n",
    "from bs4 import BeautifulSoup\n",
    "url = \"https://www.amazon.in/Comic-Book/s?k=Comic+Book\"\n",
    "r = requests.get(url)\n",
    "htmlcontent = r.content\n",
    "soup = BeautifulSoup(htmlcontent,'html.parser')\n",
    "print(soup.find_all('span'))"
   ]
  },
  {
   "cell_type": "code",
   "execution_count": null,
   "metadata": {},
   "outputs": [],
   "source": []
  }
 ],
 "metadata": {
  "kernelspec": {
   "display_name": "Python 3",
   "language": "python",
   "name": "python3"
  },
  "language_info": {
   "codemirror_mode": {
    "name": "ipython",
    "version": 3
   },
   "file_extension": ".py",
   "mimetype": "text/x-python",
   "name": "python",
   "nbconvert_exporter": "python",
   "pygments_lexer": "ipython3",
   "version": "3.7.4"
  }
 },
 "nbformat": 4,
 "nbformat_minor": 4
}
